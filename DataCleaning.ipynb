{
 "cells": [
  {
   "cell_type": "code",
   "execution_count": 27,
   "metadata": {
    "scrolled": true
   },
   "outputs": [],
   "source": [
    "import pandas as pd\n",
    "\n",
    "df = pd.read_csv(\"data/train.csv\", index_col=0)\n",
    "df=df[~df['labels'].str.contains(\":\")]"
   ]
  },
  {
   "cell_type": "markdown",
   "metadata": {},
   "source": [
    "## Sparse Matrix Encoding"
   ]
  },
  {
   "cell_type": "code",
   "execution_count": 28,
   "metadata": {},
   "outputs": [],
   "source": [
    "import ast\n",
    "from scipy.sparse import csr_matrix, vstack, save_npz, load_npz\n",
    "import numpy as np\n",
    "from sklearn.feature_extraction import DictVectorizer\n",
    "\n",
    "X=[]\n",
    "y=None\n",
    "\n",
    "for i, r in df.iterrows():\n",
    "    X.append(ast.literal_eval(\"{\"+df.features[i].replace(\" \",\",\")+\"}\"))\n",
    "    y_i=(ast.literal_eval(\"[\"+df.labels[i]+\"]\"))\n",
    "    y_i=csr_matrix((np.ones(len(y_i)), (np.zeros(len(y_i)), y_i)), shape=(1, NUM_LABELS),dtype=int)\n",
    "    if y==None:\n",
    "        y=y_i\n",
    "    else:\n",
    "        y=vstack((y,y_i))\n",
    "\n",
    "v = DictVectorizer()\n",
    "X=v.fit_transform(X)\n"
   ]
  },
  {
   "cell_type": "code",
   "execution_count": 29,
   "metadata": {},
   "outputs": [],
   "source": [
    "save_npz(\"data/X_sparse.npz\",X)\n",
    "save_npz(\"data/y_sparse.npz\",y)\n"
   ]
  },
  {
   "cell_type": "code",
   "execution_count": 30,
   "metadata": {},
   "outputs": [],
   "source": [
    "from scipy.sparse import load_npz\n",
    "\n",
    "X=load_npz(\"data/X_sparse.npz\")\n",
    "y=load_npz(\"data/y_sparse.npz\")\n"
   ]
  },
  {
   "cell_type": "code",
   "execution_count": 41,
   "metadata": {},
   "outputs": [],
   "source": [
    "#downsample for testing purposes\n",
    "from sklearn.utils import resample\n",
    "pct=50\n",
    "X, y = resample(X,y,n_samples=int(round(pct*y.shape[0]/100)))"
   ]
  },
  {
   "cell_type": "code",
   "execution_count": 42,
   "metadata": {},
   "outputs": [],
   "source": [
    "import numpy as np\n",
    "from sklearn.model_selection import train_test_split\n",
    "\n",
    "X_train, X_val, y_train, y_val = train_test_split(\n",
    "                                X, y, test_size=0.25, random_state=42)\n"
   ]
  },
  {
   "cell_type": "code",
   "execution_count": 43,
   "metadata": {},
   "outputs": [],
   "source": [
    "from sklearn.multiclass import OneVsRestClassifier\n",
    "from sklearn.multiclass import OneVsOneClassifier #O(n_classes^2)\n",
    "\n",
    "from sklearn.naive_bayes import MultinomialNB\n",
    "from sklearn.svm import LinearSVC\n",
    "\n",
    "from sklearn.metrics import label_ranking_average_precision_score\n"
   ]
  },
  {
   "cell_type": "code",
   "execution_count": 44,
   "metadata": {},
   "outputs": [
    {
     "name": "stdout",
     "output_type": "stream",
     "text": [
      "0.4105360868918316\n",
      "0.17365650495985804\n"
     ]
    }
   ],
   "source": [
    "ovrnb = OneVsRestClassifier(MultinomialNB(),n_jobs=16).fit(X_train, y_train)\n",
    "y_train_hat=ovrnb.predict(X_train)\n",
    "print(label_ranking_average_precision_score(y_train.todense(),y_train_hat.todense()))\n",
    "y_val_hat=ovrnb.predict(X_val)\n",
    "print(label_ranking_average_precision_score(y_val.todense(),y_val_hat.todense()))\n"
   ]
  },
  {
   "cell_type": "code",
   "execution_count": 45,
   "metadata": {},
   "outputs": [
    {
     "name": "stdout",
     "output_type": "stream",
     "text": [
      "0.9879772814051164\n",
      "0.4160523430014142\n"
     ]
    }
   ],
   "source": [
    "ovrsvm = OneVsRestClassifier(LinearSVC(       ),n_jobs=16).fit(X_train, y_train)\n",
    "y_train_hat=ovrsvm.predict(X_train)\n",
    "print(label_ranking_average_precision_score(y_train.todense(),y_train_hat.todense()))\n",
    "y_val_hat=ovrsvm.predict(X_val)\n",
    "print(label_ranking_average_precision_score(y_val.todense(),y_val_hat.todense()))\n"
   ]
  },
  {
   "cell_type": "code",
   "execution_count": 46,
   "metadata": {},
   "outputs": [
    {
     "ename": "NameError",
     "evalue": "name 'cv_results' is not defined",
     "output_type": "error",
     "traceback": [
      "\u001b[0;31m------------------------------------------------------------\u001b[0m",
      "\u001b[0;31mNameError\u001b[0m                  Traceback (most recent call last)",
      "\u001b[0;32m<ipython-input-46-0dc1155cd073>\u001b[0m in \u001b[0;36m<module>\u001b[0;34m()\u001b[0m\n\u001b[1;32m      1\u001b[0m \u001b[0;31m#from sklearn.model_selection import cross_validate\u001b[0m\u001b[0;34m\u001b[0m\u001b[0;34m\u001b[0m\u001b[0m\n\u001b[1;32m      2\u001b[0m \u001b[0;31m#cv_results = cross_validate(clf, X_train, y_train)\u001b[0m\u001b[0;34m\u001b[0m\u001b[0;34m\u001b[0m\u001b[0m\n\u001b[0;32m----> 3\u001b[0;31m \u001b[0mcv_results\u001b[0m\u001b[0;34m\u001b[0m\u001b[0m\n\u001b[0m",
      "\u001b[0;31mNameError\u001b[0m: name 'cv_results' is not defined"
     ]
    }
   ],
   "source": [
    "#from sklearn.model_selection import cross_validate\n",
    "#cv_results = cross_validate(clf, X_train, y_train)\n",
    "#cv_results"
   ]
  },
  {
   "cell_type": "code",
   "execution_count": 98,
   "metadata": {},
   "outputs": [
    {
     "name": "stdout",
     "output_type": "stream",
     "text": [
      "[0.05011872 0.09120108 0.16595869 0.30199517 0.54954087 1.        ]\n",
      "0.050\n",
      "\t0.4197\n",
      "0.091\n",
      "\t0.4183\n",
      "0.166\n",
      "\t0.4172\n",
      "0.302\n",
      "\t0.4161\n",
      "0.550\n",
      "\t0.4148\n",
      "1.000\n",
      "\t0.4161\n"
     ]
    }
   ],
   "source": [
    "#Cs=[.001,.002,.005,.01,.02,.05,.1,.2,.5,1,2,5,10,12,15,100]\n",
    "#Cs=[.001,.01,.1,1,10,100]\n",
    "Cs=[.02,.05,.1,.2,.5,1]\n",
    "Cs=np.logspace(-1.3, 0, 6)\n",
    "\n",
    "print(Cs)\n",
    "\n",
    "for C in Cs:\n",
    "    print(\"{:.3f}\".format(C))\n",
    "    ovrsvm = OneVsRestClassifier(LinearSVC(C=C),n_jobs=16).fit(X_train, y_train)\n",
    "    y_val_hat=ovrsvm.predict(X_val)\n",
    "    print(\"\\t{:.4f}\".format(label_ranking_average_precision_score(y_val.todense(),y_val_hat.todense())))\n"
   ]
  },
  {
   "cell_type": "code",
   "execution_count": null,
   "metadata": {},
   "outputs": [],
   "source": []
  },
  {
   "cell_type": "code",
   "execution_count": null,
   "metadata": {},
   "outputs": [],
   "source": []
  },
  {
   "cell_type": "code",
   "execution_count": null,
   "metadata": {},
   "outputs": [],
   "source": []
  },
  {
   "cell_type": "code",
   "execution_count": null,
   "metadata": {},
   "outputs": [],
   "source": []
  }
 ],
 "metadata": {
  "kernelspec": {
   "display_name": "Python 3",
   "language": "python",
   "name": "python3"
  },
  "language_info": {
   "codemirror_mode": {
    "name": "ipython",
    "version": 3
   },
   "file_extension": ".py",
   "mimetype": "text/x-python",
   "name": "python",
   "nbconvert_exporter": "python",
   "pygments_lexer": "ipython3",
   "version": "3.6.6"
  }
 },
 "nbformat": 4,
 "nbformat_minor": 2
}
