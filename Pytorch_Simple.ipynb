{
 "cells": [
  {
   "cell_type": "code",
   "execution_count": 1,
   "metadata": {},
   "outputs": [],
   "source": [
    "import numpy as np\n",
    "from scipy import sparse\n",
    "import torch\n",
    "from torch import nn, optim\n",
    "from sklearn.metrics import label_ranking_average_precision_score as LRAP\n",
    "\n",
    "import NeuralNet"
   ]
  },
  {
   "cell_type": "code",
   "execution_count": 2,
   "metadata": {},
   "outputs": [
    {
     "data": {
      "text/plain": [
       "False"
      ]
     },
     "execution_count": 2,
     "metadata": {},
     "output_type": "execute_result"
    }
   ],
   "source": [
    "torch.cuda.is_available()"
   ]
  },
  {
   "cell_type": "code",
   "execution_count": 3,
   "metadata": {},
   "outputs": [
    {
     "data": {
      "text/plain": [
       "<15539x8993 sparse matrix of type '<class 'numpy.float64'>'\n",
       "\twith 3767303 stored elements in COOrdinate format>"
      ]
     },
     "execution_count": 3,
     "metadata": {},
     "output_type": "execute_result"
    }
   ],
   "source": [
    "data = sparse.load_npz(\"data/data_cleaned.npz\")\n",
    "data"
   ]
  },
  {
   "cell_type": "code",
   "execution_count": 4,
   "metadata": {},
   "outputs": [
    {
     "name": "stdout",
     "output_type": "stream",
     "text": [
      "(15539, 5000)\n",
      "(15539, 20)\n"
     ]
    }
   ],
   "source": [
    "data = data.todense()\n",
    "\n",
    "X = data[:, :5000]  # features\n",
    "y = data[:, 5000:5020]  # labels\n",
    "\n",
    "print(X.shape)\n",
    "print(y.shape)"
   ]
  },
  {
   "cell_type": "code",
   "execution_count": 5,
   "metadata": {},
   "outputs": [
    {
     "name": "stdout",
     "output_type": "stream",
     "text": [
      "torch.Size([15539, 5000])\n",
      "torch.Size([15539, 20])\n"
     ]
    }
   ],
   "source": [
    "X = torch.from_numpy(X).float()\n",
    "X.requires_grad_(True)\n",
    "print(X.shape)\n",
    "\n",
    "y = torch.from_numpy(y).float()\n",
    "print(y.shape)"
   ]
  },
  {
   "cell_type": "code",
   "execution_count": 6,
   "metadata": {},
   "outputs": [
    {
     "data": {
      "text/plain": [
       "tensor([[0.0846, 0.1386, 0.0943,  ..., 0.0000, 0.0000, 0.0000],\n",
       "        [0.0507, 0.7623, 0.7544,  ..., 0.0000, 0.0000, 0.0000],\n",
       "        [0.1015, 0.1386, 0.3772,  ..., 0.0000, 0.0000, 0.0000],\n",
       "        ...,\n",
       "        [0.0507, 0.3465, 0.1886,  ..., 0.0000, 0.0000, 0.0000],\n",
       "        [0.0846, 2.3907, 0.8487,  ..., 0.0000, 0.0000, 0.0000],\n",
       "        [0.0846, 0.2079, 0.2829,  ..., 0.0000, 0.0000, 0.0000]],\n",
       "       requires_grad=True)"
      ]
     },
     "execution_count": 6,
     "metadata": {},
     "output_type": "execute_result"
    }
   ],
   "source": [
    "X"
   ]
  },
  {
   "cell_type": "code",
   "execution_count": 7,
   "metadata": {},
   "outputs": [
    {
     "data": {
      "text/plain": [
       "tensor([[0., 0., 0.,  ..., 0., 0., 0.],\n",
       "        [0., 0., 0.,  ..., 0., 0., 0.],\n",
       "        [0., 0., 0.,  ..., 0., 0., 0.],\n",
       "        ...,\n",
       "        [0., 0., 0.,  ..., 0., 0., 0.],\n",
       "        [0., 0., 0.,  ..., 0., 0., 0.],\n",
       "        [0., 0., 0.,  ..., 0., 0., 0.]])"
      ]
     },
     "execution_count": 7,
     "metadata": {},
     "output_type": "execute_result"
    }
   ],
   "source": [
    "y"
   ]
  },
  {
   "cell_type": "code",
   "execution_count": 8,
   "metadata": {},
   "outputs": [
    {
     "data": {
      "text/plain": [
       "Net(\n",
       "  (l1): Linear(in_features=5000, out_features=1000, bias=True)\n",
       "  (l2): Linear(in_features=1000, out_features=100, bias=True)\n",
       "  (l3): Linear(in_features=100, out_features=20, bias=True)\n",
       ")"
      ]
     },
     "execution_count": 8,
     "metadata": {},
     "output_type": "execute_result"
    }
   ],
   "source": [
    "net = NeuralNet.Net()\n",
    "net"
   ]
  },
  {
   "cell_type": "code",
   "execution_count": 9,
   "metadata": {},
   "outputs": [],
   "source": [
    "criterion = nn.MSELoss()"
   ]
  },
  {
   "cell_type": "code",
   "execution_count": 10,
   "metadata": {},
   "outputs": [],
   "source": [
    "optimizer = optim.SGD(net.parameters(), lr=0.00001)"
   ]
  },
  {
   "cell_type": "code",
   "execution_count": 11,
   "metadata": {
    "scrolled": true
   },
   "outputs": [
    {
     "name": "stdout",
     "output_type": "stream",
     "text": [
      "Epoch 0 Loss: 7.498230792582035\n",
      "Epoch 1 Loss: 7.079636454582214\n",
      "Epoch 2 Loss: 6.71984301507473\n",
      "Epoch 3 Loss: 6.408346809446812\n",
      "Epoch 4 Loss: 6.13856253772974\n",
      "Epoch 5 Loss: 5.901556022465229\n",
      "Epoch 6 Loss: 5.692268088459969\n",
      "Epoch 7 Loss: 5.506145879626274\n",
      "Epoch 8 Loss: 5.33957639336586\n",
      "Epoch 9 Loss: 5.189771346747875\n"
     ]
    }
   ],
   "source": [
    "for epoch in range(10):\n",
    "    \n",
    "    running_loss = 0.0\n",
    "    for i in np.arange(0, X.shape[0], 1000):\n",
    "        inp = X[i:i+100, :]\n",
    "        targets = y[i:i+100, :]\n",
    "        \n",
    "        optimizer.zero_grad()\n",
    "        \n",
    "        out = net(inp)\n",
    "        loss = criterion(out, targets)\n",
    "        loss.backward()\n",
    "        optimizer.step()\n",
    "        \n",
    "        #print(i, loss)\n",
    "        running_loss += loss.item()\n",
    "    \n",
    "    print(\"Epoch {} Loss: {}\".format(epoch, running_loss))\n",
    "    # validation loss?"
   ]
  },
  {
   "cell_type": "code",
   "execution_count": 12,
   "metadata": {},
   "outputs": [
    {
     "data": {
      "text/plain": [
       "Net(\n",
       "  (l1): Linear(in_features=5000, out_features=1000, bias=True)\n",
       "  (l2): Linear(in_features=1000, out_features=100, bias=True)\n",
       "  (l3): Linear(in_features=100, out_features=20, bias=True)\n",
       ")"
      ]
     },
     "execution_count": 12,
     "metadata": {},
     "output_type": "execute_result"
    }
   ],
   "source": [
    "net"
   ]
  },
  {
   "cell_type": "code",
   "execution_count": 13,
   "metadata": {},
   "outputs": [
    {
     "data": {
      "text/plain": [
       "0.904830487918455"
      ]
     },
     "execution_count": 13,
     "metadata": {},
     "output_type": "execute_result"
    }
   ],
   "source": [
    "out = net(X)\n",
    "out = out.detach()\n",
    "\n",
    "LRAP(y, out)"
   ]
  },
  {
   "cell_type": "code",
   "execution_count": 14,
   "metadata": {},
   "outputs": [
    {
     "data": {
      "text/plain": [
       "tensor([[ 0.0876, -0.0801,  0.0599,  ...,  0.1040, -0.0751, -0.0118],\n",
       "        [ 0.0650, -0.3998, -0.3408,  ...,  0.2718, -0.0592,  0.1949],\n",
       "        [ 0.0300, -0.0368, -0.1064,  ...,  0.0763, -0.1050, -0.1031],\n",
       "        ...,\n",
       "        [ 0.0812, -0.0725, -0.0490,  ...,  0.1609, -0.0703, -0.0632],\n",
       "        [ 1.1305, -0.9240, -1.7764,  ...,  0.9205, -0.4070,  0.6921],\n",
       "        [ 0.2374, -0.1534, -0.0977,  ...,  0.2113,  0.0501,  0.0761]])"
      ]
     },
     "execution_count": 14,
     "metadata": {},
     "output_type": "execute_result"
    }
   ],
   "source": [
    "out"
   ]
  },
  {
   "cell_type": "code",
   "execution_count": null,
   "metadata": {},
   "outputs": [],
   "source": []
  }
 ],
 "metadata": {
  "kernelspec": {
   "display_name": "Python 3",
   "language": "python",
   "name": "python3"
  },
  "language_info": {
   "codemirror_mode": {
    "name": "ipython",
    "version": 3
   },
   "file_extension": ".py",
   "mimetype": "text/x-python",
   "name": "python",
   "nbconvert_exporter": "python",
   "pygments_lexer": "ipython3",
   "version": "3.6.8"
  }
 },
 "nbformat": 4,
 "nbformat_minor": 2
}
